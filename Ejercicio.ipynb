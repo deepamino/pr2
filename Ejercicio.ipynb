{
 "cells": [
  {
   "cell_type": "code",
   "execution_count": 24,
   "metadata": {},
   "outputs": [],
   "source": [
    "from processing.DataLoader import DataLoaderFactory\n",
    "from processing.AlignerBuilder import *\n",
    "from processing.Visualizer import Visualizer"
   ]
  },
  {
   "cell_type": "code",
   "execution_count": 25,
   "metadata": {},
   "outputs": [],
   "source": [
    "sequenceLoader = DataLoaderFactory.get_loader(\"random\")"
   ]
  },
  {
   "cell_type": "code",
   "execution_count": 26,
   "metadata": {},
   "outputs": [
    {
     "name": "stdout",
     "output_type": "stream",
     "text": [
      "Sequence 1: LLNAWWFLENIVNGPGPDRMPAVQHLLDDDSDAMIFPNWQRVNMNLMADW\n",
      "Sequence 2: EDTEYFSFRVMDMFVLFLMCIHRYFEIDTDSTHWSVIKWFGMEQGSWISN\n"
     ]
    }
   ],
   "source": [
    "seq1 = sequenceLoader.load(50)\n",
    "seq2 = sequenceLoader.load(50)\n",
    "\n",
    "print(f\"Sequence 1: {seq1}\")\n",
    "print(f\"Sequence 2: {seq2}\")"
   ]
  },
  {
   "cell_type": "code",
   "execution_count": 27,
   "metadata": {},
   "outputs": [],
   "source": [
    "aligner = AlignerBuilder().with_args(\n",
    "                                AlignerArgs(\n",
    "                                    mismatch_score=-1,\n",
    "                                    target_internal_extend_gap_score=0.5,\n",
    "                                    target_internal_open_gap_score=0.5\n",
    "                                )\n",
    "                            ).build()"
   ]
  },
  {
   "cell_type": "code",
   "execution_count": 28,
   "metadata": {},
   "outputs": [],
   "source": [
    "alignments = aligner.align(seq1, seq2, matrix=\"blosum62\")"
   ]
  },
  {
   "cell_type": "code",
   "execution_count": 29,
   "metadata": {},
   "outputs": [
    {
     "name": "stdout",
     "output_type": "stream",
     "text": [
      "\n",
      "Alignment Score: 91.0\n",
      "target            0 LL-NA--WWFLENI--VNGPGP-DRMPA-VQ------H----LLD-DDSDAMIFP-NWQR\n",
      "                  0 ---.---.-|--.---|------|-|---|-------|----.-|-|-|-------.|--\n",
      "query             0 --ED-TEY-F--S-FRV-----MD-M--FV-LFLMCIHRYFEI-DTD-S------THW--\n",
      "\n",
      "target           41 -VNMNL----MAD---W--- 50\n",
      "                 60 -|---.----|-.---|--- 80\n",
      "query            34 SV---IKWFGM-EQGSWISN 50\n",
      "\n"
     ]
    }
   ],
   "source": [
    "print(f\"\\nAlignment Score: {alignments.score}\")\n",
    "for alignment in alignments:\n",
    "    print(alignment)\n",
    "    break"
   ]
  }
 ],
 "metadata": {
  "kernelspec": {
   "display_name": "base",
   "language": "python",
   "name": "python3"
  },
  "language_info": {
   "codemirror_mode": {
    "name": "ipython",
    "version": 3
   },
   "file_extension": ".py",
   "mimetype": "text/x-python",
   "name": "python",
   "nbconvert_exporter": "python",
   "pygments_lexer": "ipython3",
   "version": "3.12.4"
  }
 },
 "nbformat": 4,
 "nbformat_minor": 2
}
