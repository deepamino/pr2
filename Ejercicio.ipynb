{
 "cells": [
  {
   "cell_type": "code",
   "execution_count": 1,
   "metadata": {},
   "outputs": [],
   "source": [
    "from processing.DataLoader import DataLoaderFactory\n",
    "from processing.AlignerBuilder import *\n",
    "from processing.Optimizer import *"
   ]
  },
  {
   "cell_type": "code",
   "execution_count": 2,
   "metadata": {},
   "outputs": [],
   "source": [
    "import numpy as np"
   ]
  },
  {
   "cell_type": "markdown",
   "metadata": {},
   "source": [
    "## Generación aleatoria de secuencias de aminoácidos"
   ]
  },
  {
   "cell_type": "code",
   "execution_count": 3,
   "metadata": {},
   "outputs": [],
   "source": [
    "sequenceLoader = DataLoaderFactory.get_loader(\"random\")"
   ]
  },
  {
   "cell_type": "code",
   "execution_count": 4,
   "metadata": {},
   "outputs": [
    {
     "name": "stdout",
     "output_type": "stream",
     "text": [
      "Sequence 1: DHCPFAAMEPFNNERLLMYSHTVLITSKSIFRMRQCSIQLGWYHAPNWRSPQLKCHRSLRHDDGTRMPWI\n",
      "Sequence 2: NTTSIISDRHRVGFYPVAGQCSSNSYDDCTLFSGQQHYRDYTIIYCPLHDVLGSWGIECKQYPLL\n"
     ]
    }
   ],
   "source": [
    "sequence1 = sequenceLoader.load(70)\n",
    "sequence2 = sequenceLoader.load(65)\n",
    "\n",
    "print(f\"Sequence 1: {sequence1}\")\n",
    "print(f\"Sequence 2: {sequence2}\")"
   ]
  },
  {
   "cell_type": "markdown",
   "metadata": {},
   "source": [
    "### Alineamiento de secuencias con ajuste manual"
   ]
  },
  {
   "cell_type": "code",
   "execution_count": 5,
   "metadata": {},
   "outputs": [],
   "source": [
    "aligner = AlignerBuilder().build(\n",
    "                                AlignerArgs(\n",
    "                                    match_score=3,\n",
    "                                    mismatch_score=-1,\n",
    "                                    target_internal_extend_gap_score=-3,\n",
    "                                    target_internal_open_gap_score=-5\n",
    "                                )\n",
    "                            )"
   ]
  },
  {
   "cell_type": "code",
   "execution_count": 6,
   "metadata": {},
   "outputs": [
    {
     "name": "stdout",
     "output_type": "stream",
     "text": [
      "AlignerArgs(match_score=3.0, \n",
      "                    mismatch_score=-1.0, \n",
      "                    target_internal_open_gap_score=-5.0, \n",
      "                    target_internal_extend_gap_score=-3.0, \n",
      "                    target_left_open_gap_score=0.0, \n",
      "                    target_left_extend_gap_score=0.0, \n",
      "                    target_right_open_gap_score=0.0, \n",
      "                    target_right_extend_gap_score=0.0, \n",
      "                    query_internal_open_gap_score=0.0, \n",
      "                    query_internal_extend_gap_score=0.0, \n",
      "                    query_left_open_gap_score=0.0, \n",
      "                    query_left_extend_gap_score=0.0, \n",
      "                    query_right_open_gap_score=0.0, \n",
      "                    query_right_extend_gap_score=0.0)\n"
     ]
    }
   ],
   "source": [
    "print(aligner.args())"
   ]
  },
  {
   "cell_type": "code",
   "execution_count": 7,
   "metadata": {},
   "outputs": [],
   "source": [
    "alignments = aligner.align(sequence1, sequence2)"
   ]
  },
  {
   "cell_type": "code",
   "execution_count": 8,
   "metadata": {},
   "outputs": [],
   "source": [
    "def get_matches(alignment):\n",
    "    matches = 0\n",
    "    seq1 = alignment[0]\n",
    "    seq2 = alignment[1]\n",
    "\n",
    "    for i in range(len(seq1)):\n",
    "        if seq1[i] == seq2[i]:\n",
    "            matches += 1\n",
    "\n",
    "    return matches"
   ]
  },
  {
   "cell_type": "code",
   "execution_count": 9,
   "metadata": {},
   "outputs": [
    {
     "name": "stdout",
     "output_type": "stream",
     "text": [
      "Matches: 14\n",
      "Score: 36.0\n",
      "Alignment:\n",
      "target            2 CPFAAMEPFNNERLLMYSHTVLITSKSIFRMRQCSIQLGWYHAPNWRSPQLKCHRSL 59\n",
      "                  0 |------|------|---|.||-.|..|----.|-.|---|-------|-|-----| 57\n",
      "query            45 C------P------L---HDVL-GSWGI----EC-KQ---Y-------P-L-----L 65\n",
      "\n"
     ]
    }
   ],
   "source": [
    "for alignment in alignments:\n",
    "    print(f\"Matches: {get_matches(alignment)}\")\n",
    "    print(f\"Score: {alignment.score}\")\n",
    "    print(f\"Alignment:\")\n",
    "    print(alignment)\n",
    "    break"
   ]
  },
  {
   "cell_type": "markdown",
   "metadata": {},
   "source": [
    "### Alineamiento de secuencias con algoritmo genético"
   ]
  },
  {
   "cell_type": "code",
   "execution_count": 10,
   "metadata": {},
   "outputs": [],
   "source": [
    "from processing.Optimizer import *"
   ]
  },
  {
   "cell_type": "code",
   "execution_count": 11,
   "metadata": {},
   "outputs": [],
   "source": [
    "def fitness_function(aligner):\n",
    "    matches = 0\n",
    "    \n",
    "    alignment = aligner.align(sequence1, sequence2)[0]\n",
    "    seq1 = alignment[0]\n",
    "    seq2 = alignment[1]\n",
    "\n",
    "    for i in range(len(seq1)):\n",
    "        if seq1[i] == seq2[i]:\n",
    "            matches += 1\n",
    "\n",
    "    return matches"
   ]
  },
  {
   "cell_type": "code",
   "execution_count": 12,
   "metadata": {},
   "outputs": [],
   "source": [
    "geneticAlgorithm = GeneticAlgorithm(1200, 5, sequence1, sequence2, fitness_function)\n",
    "aligner = geneticAlgorithm.run()"
   ]
  },
  {
   "cell_type": "code",
   "execution_count": 13,
   "metadata": {},
   "outputs": [
    {
     "name": "stdout",
     "output_type": "stream",
     "text": [
      "AlignerArgs(match_score=9.229707884146155, \n",
      "                    mismatch_score=-8.756488005715608, \n",
      "                    target_internal_open_gap_score=-3.224088645118397, \n",
      "                    target_internal_extend_gap_score=-0.4563923477015086, \n",
      "                    target_left_open_gap_score=-1.7963988690511445, \n",
      "                    target_left_extend_gap_score=-9.717966725467305, \n",
      "                    target_right_open_gap_score=-0.9989004029054005, \n",
      "                    target_right_extend_gap_score=-7.451833494085273, \n",
      "                    query_internal_open_gap_score=-1.0838475742028097, \n",
      "                    query_internal_extend_gap_score=-0.15781246997672915, \n",
      "                    query_left_open_gap_score=-3.505197032576329, \n",
      "                    query_left_extend_gap_score=-8.056491461288694, \n",
      "                    query_right_open_gap_score=-3.628544636973369, \n",
      "                    query_right_extend_gap_score=-3.1911940736988385)\n"
     ]
    }
   ],
   "source": [
    "print(aligner.args())"
   ]
  },
  {
   "cell_type": "code",
   "execution_count": 14,
   "metadata": {},
   "outputs": [
    {
     "name": "stdout",
     "output_type": "stream",
     "text": [
      "Alignment: target           12 NERLLMYSHTVLITSKSI---FR-MR--------QCS--------IQL--G---WYHAPN\n",
      "                  0 |--------|---||--|----|--|--------|||----------|--|----|----\n",
      "query             0 N--------T---TS--IISD-RH-RVGFYPVAGQCSSNSYDDCT--LFSGQQH-Y----\n",
      "\n",
      "target           47 WR-------SPQLKCHRSLRHD--DG-TRMPW-I 70\n",
      "                 60 -|--------|-------|-||---|-----|-| 94\n",
      "query            38 -RDYTIIYC-P-------L-HDVL-GS----WGI 57\n",
      "\n",
      "Matches: 21\n",
      "Score: 131.83926033156794\n"
     ]
    }
   ],
   "source": [
    "alignment = aligner.align(sequence1, sequence2)\n",
    "\n",
    "for alignment in alignment:\n",
    "    print(f\"Alignment: {alignment}\")\n",
    "    print(f\"Matches: {get_matches(alignment)}\")\n",
    "    print(f\"Score: {alignment.score}\")\n",
    "    break"
   ]
  },
  {
   "cell_type": "markdown",
   "metadata": {},
   "source": [
    "### Alineamiento de secuencias con matriz de puntuación"
   ]
  },
  {
   "cell_type": "code",
   "execution_count": 15,
   "metadata": {},
   "outputs": [],
   "source": [
    "aligner = AlignerBuilder().build()"
   ]
  },
  {
   "cell_type": "markdown",
   "metadata": {},
   "source": [
    "- Para la matriz de puntuación BLOSUM62"
   ]
  },
  {
   "cell_type": "code",
   "execution_count": 16,
   "metadata": {},
   "outputs": [],
   "source": [
    "alignments = aligner.align(sequence1, sequence2, matrix=\"blosum62\")"
   ]
  },
  {
   "cell_type": "code",
   "execution_count": 17,
   "metadata": {},
   "outputs": [
    {
     "name": "stdout",
     "output_type": "stream",
     "text": [
      "Matches: 20\n",
      "Score: 133.0\n",
      "Alignment:\n",
      "target            0 D-HCP---FAAME-PF-----N-NERLLM-YSH---TVLITSKSIFRMRQCSIQLGWY--\n",
      "                  0 |-|-----|-----|------.-|------|-----|-|------|-----|---|----\n",
      "query             7 DRH--RVGF----YP-VAGQCSSN-----SY--DDCT-L------F-----S---G--QQ\n",
      "\n",
      "target           43 HAPNWR--SPQLK--CHRS-LRHDD--GTRMPW-I 70\n",
      "                 60 |---.|--.--.---|----|-||---|.---|-| 95\n",
      "query            36 H---YRDYT--I-IYC---PL-HD-VLGS---WGI 57\n",
      "\n"
     ]
    }
   ],
   "source": [
    "for alignment in alignments:\n",
    "    print(f\"Matches: {get_matches(alignment)}\")\n",
    "    print(f\"Score: {alignment.score}\")\n",
    "    print(f\"Alignment:\")\n",
    "    print(alignment)\n",
    "    break"
   ]
  },
  {
   "cell_type": "markdown",
   "metadata": {},
   "source": [
    "- Para la matriz de puntuación PAM250"
   ]
  },
  {
   "cell_type": "code",
   "execution_count": 18,
   "metadata": {},
   "outputs": [],
   "source": [
    "alignments = aligner.align(sequence1, sequence2, matrix=\"pam250\")"
   ]
  },
  {
   "cell_type": "code",
   "execution_count": 19,
   "metadata": {},
   "outputs": [
    {
     "name": "stdout",
     "output_type": "stream",
     "text": [
      "Matches: 15\n",
      "Score: 160.0\n",
      "Alignment:\n",
      "target            0 D-H----------CP---F---AAMEPFN-NE--RLLM-YSHTVLITSKSIFRMRQCSIQ\n",
      "                  0 |-|----------|.---.---.-.--|.-..--|----|--|--|----|.----|...\n",
      "query             7 DRHRVGFYPVAGQCSSNSYDDCT-L--FSGQQHYR---DY--T--I----IY----CPLH\n",
      "\n",
      "target           39 --LGWYHAPNWRSPQLK-CHR--SLRHDDGTRM 67\n",
      "                 60 --||---.--|-.--.--|-.--.|-------. 93\n",
      "query            49 DVLG---S--W-G--I-EC-KQYPL-------L 65\n",
      "\n"
     ]
    }
   ],
   "source": [
    "for alignment in alignments:\n",
    "    print(f\"Matches: {get_matches(alignment)}\")\n",
    "    print(f\"Score: {alignment.score}\")\n",
    "    print(f\"Alignment:\")\n",
    "    print(alignment)\n",
    "    break"
   ]
  },
  {
   "cell_type": "markdown",
   "metadata": {},
   "source": [
    "- Para la matriz de puntuación BLOSUM50"
   ]
  },
  {
   "cell_type": "code",
   "execution_count": 20,
   "metadata": {},
   "outputs": [],
   "source": [
    "alignments = aligner.align(sequence1, sequence2, matrix=\"blosum50\")"
   ]
  },
  {
   "cell_type": "code",
   "execution_count": 21,
   "metadata": {},
   "outputs": [
    {
     "name": "stdout",
     "output_type": "stream",
     "text": [
      "Matches: 19\n",
      "Score: 174.0\n",
      "Alignment:\n",
      "target            0 D-HCP---FAAME-PFNN---ERLLMY-SHTVLITSK-SIFRMRQ--CSIQL--GWY--H\n",
      "                  0 |-|-----|-----|------.------|------|--|-.------|.--|--|----|\n",
      "query             7 DRH--RVGF----YP---VAGQ-----CS------S-NS-Y----DDCT--LFSG--QQH\n",
      "\n",
      "target           44 APNWR--SPQLK--CHRS-LRHDD--GTRMPW-I 70\n",
      "                 60 ---.|--.--.---|----|-||---|.---|-| 94\n",
      "query            37 ---YRDYT--I-IYC---PL-HD-VLGS---WGI 57\n",
      "\n"
     ]
    }
   ],
   "source": [
    "for alignment in alignments:\n",
    "    print(f\"Matches: {get_matches(alignment)}\")\n",
    "    print(f\"Score: {alignment.score}\")\n",
    "    print(f\"Alignment:\")\n",
    "    print(alignment)\n",
    "    break"
   ]
  },
  {
   "cell_type": "markdown",
   "metadata": {},
   "source": [
    "- Para la matriz de puntuación BLOSUM80"
   ]
  },
  {
   "cell_type": "code",
   "execution_count": 22,
   "metadata": {},
   "outputs": [],
   "source": [
    "alignments = aligner.align(sequence1, sequence2, matrix=\"blosum80\")"
   ]
  },
  {
   "cell_type": "code",
   "execution_count": 23,
   "metadata": {},
   "outputs": [
    {
     "name": "stdout",
     "output_type": "stream",
     "text": [
      "Matches: 20\n",
      "Score: 210.0\n",
      "Alignment:\n",
      "target            0 D-HCP---FAAME-PF-----N-NERLLM-YSH---TVLITSKSIFRMR--QCSIQLGWY\n",
      "                  0 |-|-----|-----|------.-|------|-----|-|------|-----|---|----\n",
      "query             7 DRH--RVGF----YP-VAGQCSSN-----SY--DDCT-L------F---SGQ---Q----\n",
      "\n",
      "target           43 HAPNWR--SPQLK--CHRS-LRHDD--GTRMPW-I 70\n",
      "                 60 |---.|--.--.---|----|-||---|.---|-| 95\n",
      "query            36 H---YRDYT--I-IYC---PL-HD-VLGS---WGI 57\n",
      "\n"
     ]
    }
   ],
   "source": [
    "for alignment in alignments:\n",
    "    print(f\"Matches: {get_matches(alignment)}\")\n",
    "    print(f\"Score: {alignment.score}\")\n",
    "    print(f\"Alignment:\")\n",
    "    print(alignment)\n",
    "    break"
   ]
  },
  {
   "cell_type": "markdown",
   "metadata": {},
   "source": [
    "- Para la matriz de puntuación pam30"
   ]
  },
  {
   "cell_type": "code",
   "execution_count": 24,
   "metadata": {},
   "outputs": [],
   "source": [
    "alignments = aligner.align(sequence1, sequence2, matrix=\"pam30\")"
   ]
  },
  {
   "cell_type": "code",
   "execution_count": 25,
   "metadata": {},
   "outputs": [
    {
     "name": "stdout",
     "output_type": "stream",
     "text": [
      "Matches: 21\n",
      "Score: 170.0\n",
      "Alignment:\n",
      "target           11 NNERLLMYSHTVLITSKSIF---RM-RQCSIQLGW-YHAP-------NWRSPQLK---C-\n",
      "                  0 |---------|---||--|----|--|---.--|--|--|-------|--|-------|-\n",
      "query             0 N---------T---TS--I-ISDR-HR---V--G-FY--PVAGQCSSN--S----YDDCT\n",
      "\n",
      "target           55 ------H-RS--------LRHDD--GTRMP-W-I 70\n",
      "                 60 ------|-|---------|-||---|-----|-| 94\n",
      "query            30 LFSGQQHYR-DYTIIYCPL-HD-VLG----SWGI 57\n",
      "\n"
     ]
    }
   ],
   "source": [
    "for alignment in alignments:\n",
    "    print(f\"Matches: {get_matches(alignment)}\")\n",
    "    print(f\"Score: {alignment.score}\")\n",
    "    print(f\"Alignment:\")\n",
    "    print(alignment)\n",
    "    break"
   ]
  },
  {
   "cell_type": "markdown",
   "metadata": {},
   "source": [
    "## Descarga de ficheros FASTA"
   ]
  },
  {
   "cell_type": "code",
   "execution_count": 26,
   "metadata": {},
   "outputs": [],
   "source": [
    "sequenceLoader = DataLoaderFactory.get_loader(\"api\")"
   ]
  },
  {
   "cell_type": "code",
   "execution_count": 27,
   "metadata": {},
   "outputs": [
    {
     "name": "stdout",
     "output_type": "stream",
     "text": [
      "Sequence 1: MVHLTPEEKSAVTALWGKVNVDEVGGEALGRLLVVYPWTQRFFESFGDLSTPDAVMGNPKVKAHGKKVLGAFSDGLAHLDNLKGTFATLSELHCDKLHVDPENFR\n",
      "Sequence 2: MKYNEINNEGVEKLMDIFYAKIRTHEQLGPIFNGAVGIDDASWERHKEKIAKFWKTMLLNENLYMGNPVQPHINLLPFDIKLFDVWLDLFKECLDQVFEEKASEHFYEVACNIAKNFKAVLFQQ\n"
     ]
    }
   ],
   "source": [
    "sequence1 = sequenceLoader.load(('ABG47031.1',))[0].seq\n",
    "sequence2 = sequenceLoader.load(('AUJ50941.1',))[0].seq\n",
    "\n",
    "print(f\"Sequence 1: {sequence1}\")\n",
    "print(f\"Sequence 2: {sequence2}\")"
   ]
  },
  {
   "cell_type": "markdown",
   "metadata": {},
   "source": [
    "### Alineamiento de secuencias con algoritmo genético"
   ]
  },
  {
   "cell_type": "code",
   "execution_count": 28,
   "metadata": {},
   "outputs": [],
   "source": [
    "geneticAlgorithm = GeneticAlgorithm(1400, 20, sequence1, sequence2, fitness_function)\n",
    "aligner = geneticAlgorithm.run()"
   ]
  },
  {
   "cell_type": "code",
   "execution_count": 29,
   "metadata": {},
   "outputs": [
    {
     "name": "stdout",
     "output_type": "stream",
     "text": [
      "AlignerArgs(match_score=4.045293730863058, \n",
      "                    mismatch_score=-4.715424683647572, \n",
      "                    target_internal_open_gap_score=-0.04160746112998104, \n",
      "                    target_internal_extend_gap_score=-0.68089970660967, \n",
      "                    target_left_open_gap_score=-2.5207757657596774, \n",
      "                    target_left_extend_gap_score=-3.8349560404192173, \n",
      "                    target_right_open_gap_score=-4.776379546439612, \n",
      "                    target_right_extend_gap_score=-0.9534176940238615, \n",
      "                    query_internal_open_gap_score=-0.4137592881127883, \n",
      "                    query_internal_extend_gap_score=-0.08009058594149465, \n",
      "                    query_left_open_gap_score=-4.603482442746141, \n",
      "                    query_left_extend_gap_score=-6.286504483987569, \n",
      "                    query_right_open_gap_score=-3.724635985595305, \n",
      "                    query_right_extend_gap_score=-4.338137490820411)\n"
     ]
    }
   ],
   "source": [
    "print(aligner.args())"
   ]
  },
  {
   "cell_type": "code",
   "execution_count": 30,
   "metadata": {},
   "outputs": [
    {
     "name": "stdout",
     "output_type": "stream",
     "text": [
      "Alignment: target            0 M--V-H-L-T-P-E--EK-----S-A--V-T--A-LWG-K-V-N--V--D----E-V-GG\n",
      "                  0 |------------|--||-------|----|----|-|-----|--|--|----|-----\n",
      "query             0 MKY-N-E-I-N-NEGVEKLMDIF-YAKI-RTHE-QL-GP-I-FNGAVGIDDASWER-H--\n",
      "\n",
      "target           26 -E--A-LGRLLVVYP-W-T-Q-RF-F-E-SFGDL-STPDAVMGNPKV-KA-H-GKKV-L-\n",
      "                 60 -|--|-----------|-|--------|-----|-------||||-|----|------|-\n",
      "query            46 KEKIAK---------FWKTM-L--L-NEN----LY------MGNP-VQ--PHI----NLL\n",
      "\n",
      "target           69 GA-FSD-G-L--A-H-LDNL-K----G-T-F---ATLSELH-----C--D-KLHVDPENF\n",
      "                120 ---|-|---|------||-|-|--------|---|--||-|-----|----|------||\n",
      "query            76 --PF-DI-KLFD-V-WLD-LFKECLD-Q-VFEEKA--SE-HFYEVACNI-AK------NF\n",
      "\n",
      "target          104 \n",
      "                180 \n",
      "query           117 \n",
      "\n",
      "Matches: 41\n",
      "Score: 130.32212699437665\n"
     ]
    }
   ],
   "source": [
    "alignment = aligner.align(sequence1, sequence2)\n",
    "\n",
    "for alignment in alignment:\n",
    "    print(f\"Alignment: {alignment}\")\n",
    "    print(f\"Matches: {get_matches(alignment)}\")\n",
    "    print(f\"Score: {alignment.score}\")\n",
    "    break"
   ]
  },
  {
   "cell_type": "markdown",
   "metadata": {},
   "source": [
    "### Alineamiento de secuencias con matriz de puntuación"
   ]
  },
  {
   "cell_type": "code",
   "execution_count": 31,
   "metadata": {},
   "outputs": [],
   "source": [
    "aligner = AlignerBuilder().build()"
   ]
  },
  {
   "cell_type": "markdown",
   "metadata": {},
   "source": [
    "- Para la matriz de puntuación BLOSUM62"
   ]
  },
  {
   "cell_type": "code",
   "execution_count": 32,
   "metadata": {},
   "outputs": [],
   "source": [
    "alignments = aligner.align(sequence1, sequence2, matrix=\"blosum62\")"
   ]
  },
  {
   "cell_type": "code",
   "execution_count": 33,
   "metadata": {},
   "outputs": [
    {
     "name": "stdout",
     "output_type": "stream",
     "text": [
      "Matches: 40\n",
      "Score: 248.0\n",
      "Alignment:\n",
      "target            0 MV-H--LTP--E--EKS------A-V-TA---LWGK-V-NVDEVGGEALGRLLVVYP---\n",
      "                  0 |--.--.----|--||-------|-.-|----|-|--.-|----|--|.|---.------\n",
      "query             0 M-KYNEI--NNEGVEK-LMDIFYAKIRT-HEQL-G-PIFN----G--AVG---I---DDA\n",
      "\n",
      "target           37 -WTQRFF--E--S-FGDLS--TP----DA-V-MGNPKVKA-HGKKV-LGA--FSDG--LA\n",
      "                 60 -|-.|----|--.-|------|-----.--.-||||-|.--|---.-|----|-|---|-\n",
      "query            41 SW-ER--HKEKIAKF----WKT-MLLNE-NLYMGNP-VQ-PH---INL--LPF-D-IKL-\n",
      "\n",
      "target           77 H----LDNL-KGT------F---ATLSELH-----CD--KLHVDPENFR 105\n",
      "                120 -----||-|-|--------|---|--||-|-----|.--|------||. 169\n",
      "query            82 -FDVWLD-LFK--ECLDQVFEEKA--SE-HFYEVACNIAK------NFK 118\n",
      "\n"
     ]
    }
   ],
   "source": [
    "for alignment in alignments:\n",
    "    print(f\"Matches: {get_matches(alignment)}\")\n",
    "    print(f\"Score: {alignment.score}\")\n",
    "    print(f\"Alignment:\")\n",
    "    print(alignment)\n",
    "    break"
   ]
  },
  {
   "cell_type": "markdown",
   "metadata": {},
   "source": [
    "- Para la matriz de puntuación PAM250"
   ]
  },
  {
   "cell_type": "code",
   "execution_count": 34,
   "metadata": {},
   "outputs": [],
   "source": [
    "alignments = aligner.align(sequence1, sequence2, matrix=\"pam250\")"
   ]
  },
  {
   "cell_type": "code",
   "execution_count": 35,
   "metadata": {},
   "outputs": [
    {
     "name": "stdout",
     "output_type": "stream",
     "text": [
      "Matches: 38\n",
      "Score: 267.0\n",
      "Alignment:\n",
      "target            0 M----VHLTP-E--EKSAVTALW-G----KV--NVDEVG----GEALGRLLVVY--P-WT\n",
      "                  0 |----..----|--||-----|--.----|.--.-...|----|-|.|---.----.-|-\n",
      "query             0 MKYNEIN---NEGVEK-----L-MDIFYAKIRTH-EQLGPIFNG-AVG---I--DDASW-\n",
      "\n",
      "target           39 QRFF--E--S-FGD----L-STPDA-V-MGNPKVKAHGKKV-LG-AFSDG--LA-H--LD\n",
      "                 60 .|----|--.-|------|-.--.--.-||||-|..|---.-|--.|-|---|--.--||\n",
      "query            43 ER--HKEKIAKF--WKTMLLN--E-NLYMGNP-VQPH---INL-LPF-D-IKL-FDVWLD\n",
      "\n",
      "target           80 NL-K---GT--F---ATLSELH-----CD--KLH---VDPEN-FR 105\n",
      "                120 -|-|---.---|---|--||-|-----|.--|-.---|-----|. 165\n",
      "query            88 -LFKECLD-QVFEEKA--SE-HFYEVACNIAK-NFKAV----LFQ 123\n",
      "\n"
     ]
    }
   ],
   "source": [
    "for alignment in alignments:\n",
    "    print(f\"Matches: {get_matches(alignment)}\")\n",
    "    print(f\"Score: {alignment.score}\")\n",
    "    print(f\"Alignment:\")\n",
    "    print(alignment)\n",
    "    break"
   ]
  },
  {
   "cell_type": "markdown",
   "metadata": {},
   "source": [
    "- Para la matriz de puntuación BLOSUM50"
   ]
  },
  {
   "cell_type": "code",
   "execution_count": 36,
   "metadata": {},
   "outputs": [],
   "source": [
    "alignments = aligner.align(sequence1, sequence2, matrix=\"blosum50\")"
   ]
  },
  {
   "cell_type": "code",
   "execution_count": 37,
   "metadata": {},
   "outputs": [
    {
     "name": "stdout",
     "output_type": "stream",
     "text": [
      "Matches: 40\n",
      "Score: 318.0\n",
      "Alignment:\n",
      "target            0 M----VHLTP-E--EKS------A-V-TA---LWGK-V-NVDEVGGEALGRLLVVYP---\n",
      "                  0 |----..----|--||-------|-.-|----|-|--.-|----|--|.|---.------\n",
      "query             0 MKYNEIN---NEGVEK-LMDIFYAKIRT-HEQL-G-PIFN----G--AVG---I---DDA\n",
      "\n",
      "target           37 -WTQRFF--E--S-FGD----L-STPDA-V-MGNPKVKA-HGKKV-LGA--FSDG--LAH\n",
      "                 60 -|-.|----|--.-|------|-.--.--.-||||-|.--|---.-|----|-|---|--\n",
      "query            41 SW-ER--HKEKIAKF--WKTMLLN--E-NLYMGNP-VQ-PH---INL--LPF-D-IKL--\n",
      "\n",
      "target           78 ----LDNL-KGT------F---ATLSELH-----CD--KLHVDPENFR 105\n",
      "                120 ----||-|-|--------|---|--||-|-----|.--|------||. 168\n",
      "query            82 FDVWLD-LFK--ECLDQVFEEKA--SE-HFYEVACNIAK------NFK 118\n",
      "\n"
     ]
    }
   ],
   "source": [
    "for alignment in alignments:\n",
    "    print(f\"Matches: {get_matches(alignment)}\")\n",
    "    print(f\"Score: {alignment.score}\")\n",
    "    print(f\"Alignment:\")\n",
    "    print(alignment)\n",
    "    break"
   ]
  }
 ],
 "metadata": {
  "kernelspec": {
   "display_name": "base",
   "language": "python",
   "name": "python3"
  },
  "language_info": {
   "codemirror_mode": {
    "name": "ipython",
    "version": 3
   },
   "file_extension": ".py",
   "mimetype": "text/x-python",
   "name": "python",
   "nbconvert_exporter": "python",
   "pygments_lexer": "ipython3",
   "version": "3.12.4"
  }
 },
 "nbformat": 4,
 "nbformat_minor": 2
}
