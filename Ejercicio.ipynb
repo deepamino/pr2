{
 "cells": [
  {
   "cell_type": "code",
   "execution_count": 56,
   "metadata": {},
   "outputs": [],
   "source": [
    "from processing.DataLoader import DataLoaderFactory\n",
    "from processing.AlignerBuilder import *\n",
    "from processing.Optimizer import *"
   ]
  },
  {
   "cell_type": "code",
   "execution_count": 57,
   "metadata": {},
   "outputs": [],
   "source": [
    "import numpy as np"
   ]
  },
  {
   "cell_type": "code",
   "execution_count": 58,
   "metadata": {},
   "outputs": [],
   "source": [
    "sequenceLoader = DataLoaderFactory.get_loader(\"random\")"
   ]
  },
  {
   "cell_type": "code",
   "execution_count": 59,
   "metadata": {},
   "outputs": [
    {
     "name": "stdout",
     "output_type": "stream",
     "text": [
      "Sequence 1: PPVQWWMCAPTGHCFLATHLSLQLWMLMDAKINGFQEEENRWLLITLWDYAKWNTHINKSSLFKWQCLCR\n",
      "Sequence 2: ERIGGICHQRHIDSWDPVSNFSDPMMDLLNHVVFGPKPKPKEMPLPCHVWQETRKFTCDNRCLDT\n"
     ]
    }
   ],
   "source": [
    "sequence1 = sequenceLoader.load(70)\n",
    "sequence2 = sequenceLoader.load(65)\n",
    "\n",
    "print(f\"Sequence 1: {sequence1}\")\n",
    "print(f\"Sequence 2: {sequence2}\")"
   ]
  },
  {
   "cell_type": "markdown",
   "metadata": {},
   "source": [
    "### Alineamiento de secuencias con ajuste manual"
   ]
  },
  {
   "cell_type": "code",
   "execution_count": 60,
   "metadata": {},
   "outputs": [],
   "source": [
    "aligner = AlignerBuilder().build(\n",
    "                                AlignerArgs(\n",
    "                                    match_score=3,\n",
    "                                    mismatch_score=-1,\n",
    "                                    target_internal_extend_gap_score=-3,\n",
    "                                    target_internal_open_gap_score=-5\n",
    "                                )\n",
    "                            )"
   ]
  },
  {
   "cell_type": "code",
   "execution_count": 21,
   "metadata": {},
   "outputs": [
    {
     "name": "stdout",
     "output_type": "stream",
     "text": [
      "AlignerArgs(match_score=3.0, \n",
      "                    mismatch_score=-1.0, \n",
      "                    target_internal_open_gap_score=-5.0, \n",
      "                    target_internal_extend_gap_score=-3.0, \n",
      "                    target_left_open_gap_score=0.0, \n",
      "                    target_left_extend_gap_score=0.0, \n",
      "                    target_right_open_gap_score=0.0, \n",
      "                    target_right_extend_gap_score=0.0, \n",
      "                    query_internal_open_gap_score=0.0, \n",
      "                    query_internal_extend_gap_score=0.0, \n",
      "                    query_left_open_gap_score=0.0, \n",
      "                    query_left_extend_gap_score=0.0, \n",
      "                    query_right_open_gap_score=0.0, \n",
      "                    query_right_extend_gap_score=0.0)\n"
     ]
    }
   ],
   "source": [
    "print(aligner.args())"
   ]
  },
  {
   "cell_type": "code",
   "execution_count": 22,
   "metadata": {},
   "outputs": [],
   "source": [
    "alignments = aligner.align(sequence1, sequence2)"
   ]
  },
  {
   "cell_type": "code",
   "execution_count": 23,
   "metadata": {},
   "outputs": [],
   "source": [
    "def get_matches(alignment):\n",
    "    matches = 0\n",
    "    seq1 = alignment[0]\n",
    "    seq2 = alignment[1]\n",
    "\n",
    "    for i in range(len(seq1)):\n",
    "        if seq1[i] == seq2[i]:\n",
    "            matches += 1\n",
    "\n",
    "    return matches"
   ]
  },
  {
   "cell_type": "code",
   "execution_count": 24,
   "metadata": {},
   "outputs": [
    {
     "name": "stdout",
     "output_type": "stream",
     "text": [
      "Matches: 17\n",
      "Score: 34.0\n",
      "Alignment:\n",
      "target            4 RMGRFTMPYRRQHLYREQSTGAWWPAWLDQEGVERVAVMDNIQGGFRHADPGQECTHYQV\n",
      "                  0 |-|----|-------||---|--.|---.|..|-....|..|---....|-|--.|-|..\n",
      "query             3 R-G----P-------RE---G--NP---NQKIV-YPSNMGDI---LYIED-G--YT-YWK\n",
      "\n",
      "target           64 SEFFH 69\n",
      "                 60 |---| 65\n",
      "query            35 S---H 37\n",
      "\n"
     ]
    }
   ],
   "source": [
    "for alignment in alignments:\n",
    "    print(f\"Matches: {get_matches(alignment)}\")\n",
    "    print(f\"Score: {alignment.score}\")\n",
    "    print(f\"Alignment:\")\n",
    "    print(alignment)\n",
    "    break"
   ]
  },
  {
   "cell_type": "markdown",
   "metadata": {},
   "source": [
    "### Alineamiento de secuencias con algoritmo genético"
   ]
  },
  {
   "cell_type": "code",
   "execution_count": 25,
   "metadata": {},
   "outputs": [],
   "source": [
    "from processing.Optimizer import *"
   ]
  },
  {
   "cell_type": "code",
   "execution_count": 26,
   "metadata": {},
   "outputs": [],
   "source": [
    "def fitness_function(aligner):\n",
    "    matches = 0\n",
    "    \n",
    "    alignment = aligner.align(sequence1, sequence2)[0]\n",
    "    seq1 = alignment[0]\n",
    "    seq2 = alignment[1]\n",
    "\n",
    "    for i in range(len(seq1)):\n",
    "        if seq1[i] == seq2[i]:\n",
    "            matches += 1\n",
    "\n",
    "    return matches"
   ]
  },
  {
   "cell_type": "code",
   "execution_count": 30,
   "metadata": {},
   "outputs": [],
   "source": [
    "geneticAlgorithm = GeneticAlgorithm(1200, 5, sequence1, sequence2, fitness_function)\n",
    "aligner = geneticAlgorithm.run()"
   ]
  },
  {
   "cell_type": "code",
   "execution_count": 32,
   "metadata": {},
   "outputs": [
    {
     "name": "stdout",
     "output_type": "stream",
     "text": [
      "AlignerArgs(match_score=8.533147827570538, \n",
      "                    mismatch_score=-1.9268962573879844, \n",
      "                    target_internal_open_gap_score=-0.4058873786894135, \n",
      "                    target_internal_extend_gap_score=-2.158757823173969, \n",
      "                    target_left_open_gap_score=-5.571837805668731, \n",
      "                    target_left_extend_gap_score=-6.36657008289916, \n",
      "                    target_right_open_gap_score=-3.988510482895383, \n",
      "                    target_right_extend_gap_score=-7.07467582878499, \n",
      "                    query_internal_open_gap_score=-1.9226480932711587, \n",
      "                    query_internal_extend_gap_score=-2.215102699217634, \n",
      "                    query_left_open_gap_score=-9.99125959848215, \n",
      "                    query_left_extend_gap_score=-1.444828052277225, \n",
      "                    query_right_open_gap_score=-5.507051270807932, \n",
      "                    query_right_extend_gap_score=-4.271952470364822)\n"
     ]
    }
   ],
   "source": [
    "print(aligner.args())"
   ]
  },
  {
   "cell_type": "code",
   "execution_count": 31,
   "metadata": {},
   "outputs": [
    {
     "name": "stdout",
     "output_type": "stream",
     "text": [
      "Alignment: target            4 RMG-RFTMPYRRQ-HLYREQS-TGAWWPAWLDQE-G------V-ERVAVMDNIQGGFRHA\n",
      "                  0 |-|-|...|-.-|-..|-.-|-.|--.-.-|..|-|------.-|-|...||---.-|--\n",
      "query             3 R-GPREGNP-N-QKIVY-P-SNMG--D-I-LYIEDGYTYWKSHCE-VCGKDN---K-R--\n",
      "\n",
      "target           53 DPGQECT----HYQVSEF 67\n",
      "                 60 -|----|----|...|.| 78\n",
      "query            47 -P----TLNIAHKWPSWF 60\n",
      "\n",
      "Matches: 21\n",
      "Score: 75.90476193134981\n"
     ]
    }
   ],
   "source": [
    "alignment = aligner.align(sequence1, sequence2)\n",
    "\n",
    "for alignment in alignment:\n",
    "    print(f\"Alignment: {alignment}\")\n",
    "    print(f\"Matches: {get_matches(alignment)}\")\n",
    "    print(f\"Score: {alignment.score}\")\n",
    "    break"
   ]
  },
  {
   "cell_type": "markdown",
   "metadata": {},
   "source": [
    "### Alineamiento de secuencias con matriz de puntuación"
   ]
  },
  {
   "cell_type": "code",
   "execution_count": 45,
   "metadata": {},
   "outputs": [],
   "source": [
    "aligner = AlignerBuilder().build()"
   ]
  },
  {
   "cell_type": "markdown",
   "metadata": {},
   "source": [
    "- Para la matriz de puntuación BLOSUM62"
   ]
  },
  {
   "cell_type": "code",
   "execution_count": 46,
   "metadata": {},
   "outputs": [],
   "source": [
    "alignments = aligner.align(sequence1, sequence2, matrix=\"blosum62\")"
   ]
  },
  {
   "cell_type": "code",
   "execution_count": 44,
   "metadata": {},
   "outputs": [
    {
     "name": "stdout",
     "output_type": "stream",
     "text": [
      "Matches: 15\n",
      "Score: 89.0\n",
      "Alignment:\n",
      "target            4 RMGRFTMPYRRQHLYREQSTGAWWPAWLDQEGVERVAVMDNIQGGFRHADPGQECTHYQV\n",
      "                  0 |-|----|-------||---|.--|---.|.-.--|-...|.-|.......|.--|...-\n",
      "query             3 R-G----P-------RE---GN--P---NQK-I--V-YPSNM-GDILYIEDGY--TYWK-\n",
      "\n",
      "target           64 SEFFH 69\n",
      "                 60 |---| 65\n",
      "query            35 S---H 37\n",
      "\n"
     ]
    }
   ],
   "source": [
    "for alignment in alignments:\n",
    "    print(f\"Matches: {get_matches(alignment)}\")\n",
    "    print(f\"Score: {alignment.score}\")\n",
    "    print(f\"Alignment:\")\n",
    "    print(alignment)\n",
    "    break"
   ]
  },
  {
   "cell_type": "markdown",
   "metadata": {},
   "source": [
    "- Para la matriz de puntuación PAM250"
   ]
  },
  {
   "cell_type": "code",
   "execution_count": 48,
   "metadata": {},
   "outputs": [],
   "source": [
    "alignments = aligner.align(sequence1, sequence2, matrix=\"pam250\")"
   ]
  },
  {
   "cell_type": "code",
   "execution_count": 49,
   "metadata": {},
   "outputs": [
    {
     "name": "stdout",
     "output_type": "stream",
     "text": [
      "Matches: 18\n",
      "Score: 145.0\n",
      "Alignment:\n",
      "target            2 QK--RMG-RFTM---P-----YRRQ--H----LYR-EQSTG-A-WW-PAWLDQ-E--GV-\n",
      "                  0 .---|-|-|------|-----|-----.----||--|.--|-.-|--.----.-|--|--\n",
      "query             0 D-FDR-GPR---EGNPNQKIVY---PSNMGDILY-IED--GYTYW-KS----HCEVCG-K\n",
      "\n",
      "target           37 E--RVAV-MDNIQGGFRHAD--PGQECTH-Y---QV 64\n",
      "                 60 .--|-.--..-|-.---|----|.------.---|| 96\n",
      "query            43 DNKR-P-TLN-I-A---H--KWPS-----WFALAQV 65\n",
      "\n"
     ]
    }
   ],
   "source": [
    "for alignment in alignments:\n",
    "    print(f\"Matches: {get_matches(alignment)}\")\n",
    "    print(f\"Score: {alignment.score}\")\n",
    "    print(f\"Alignment:\")\n",
    "    print(alignment)\n",
    "    break"
   ]
  },
  {
   "cell_type": "markdown",
   "metadata": {},
   "source": [
    "- Para la matriz de puntuación BLOSUM50"
   ]
  },
  {
   "cell_type": "code",
   "execution_count": 50,
   "metadata": {},
   "outputs": [],
   "source": [
    "alignments = aligner.align(sequence1, sequence2, matrix=\"blosum50\")"
   ]
  },
  {
   "cell_type": "code",
   "execution_count": 51,
   "metadata": {},
   "outputs": [
    {
     "name": "stdout",
     "output_type": "stream",
     "text": [
      "Matches: 20\n",
      "Score: 175.0\n",
      "Alignment:\n",
      "target            4 RMGRFTMPYRRQHLYREQSTGAWW-PAWLDQEGVERVAV----M-DNI---Q-GGF---R\n",
      "                  0 |-|----|-|------|---|----|---.|----..-|----|-|-|---.-|-.---.\n",
      "query             3 R-G----P-R------E---G---NP---NQ----KI-VYPSNMGD-ILYIEDG-YTYWK\n",
      "\n",
      "target           51 -HADPGQ-E-C-------T----HYQV--SEFF---H 69\n",
      "                 60 -|------|-|-------|----|-.---|-.|---. 97\n",
      "query            35 SH-----CEVCGKDNKRPTLNIAH-K-WPS-WFALAQ 64\n",
      "\n"
     ]
    }
   ],
   "source": [
    "for alignment in alignments:\n",
    "    print(f\"Matches: {get_matches(alignment)}\")\n",
    "    print(f\"Score: {alignment.score}\")\n",
    "    print(f\"Alignment:\")\n",
    "    print(alignment)\n",
    "    break"
   ]
  },
  {
   "cell_type": "markdown",
   "metadata": {},
   "source": [
    "- Para la matriz de puntuación BLOSUM80"
   ]
  },
  {
   "cell_type": "code",
   "execution_count": 52,
   "metadata": {},
   "outputs": [],
   "source": [
    "alignments = aligner.align(sequence1, sequence2, matrix=\"blosum80\")"
   ]
  },
  {
   "cell_type": "code",
   "execution_count": 53,
   "metadata": {},
   "outputs": [
    {
     "name": "stdout",
     "output_type": "stream",
     "text": [
      "Matches: 20\n",
      "Score: 213.0\n",
      "Alignment:\n",
      "target            4 RMGRFTMPYRRQHLYREQSTGAWW-PAWLDQEGVERVAV----M-DNI---Q-GGF---R\n",
      "                  0 |-|----|-|------|---|----|---.|----..-|----|-|-|---.-|-.---.\n",
      "query             3 R-G----P-R------E---G---NP---NQ----KI-VYPSNMGD-ILYIEDG-YTYWK\n",
      "\n",
      "target           51 -HA------D---PGQECT----H-YQV-SE-FF---H 69\n",
      "                 60 -|-------|---|----|----|-.---|--|----. 98\n",
      "query            35 SH-CEVCGKDNKRP----TLNIAHKW--PS-WF-ALAQ 64\n",
      "\n"
     ]
    }
   ],
   "source": [
    "for alignment in alignments:\n",
    "    print(f\"Matches: {get_matches(alignment)}\")\n",
    "    print(f\"Score: {alignment.score}\")\n",
    "    print(f\"Alignment:\")\n",
    "    print(alignment)\n",
    "    break"
   ]
  },
  {
   "cell_type": "markdown",
   "metadata": {},
   "source": [
    "- Para la matriz de puntuación pam30"
   ]
  },
  {
   "cell_type": "code",
   "execution_count": 54,
   "metadata": {},
   "outputs": [],
   "source": [
    "alignments = aligner.align(sequence1, sequence2, matrix=\"pam30\")"
   ]
  },
  {
   "cell_type": "code",
   "execution_count": 55,
   "metadata": {},
   "outputs": [
    {
     "name": "stdout",
     "output_type": "stream",
     "text": [
      "Matches: 20\n",
      "Score: 167.0\n",
      "Alignment:\n",
      "target            4 RMGRFTMPYRRQHLYREQSTGAWW-PAWLDQEG-VERVAV----M-DNI---Q-GGFR--\n",
      "                  0 |-|----|-|------|---|----|---.|---.--|------|-|-|---.-|-.---\n",
      "query             3 R-G----P-R------E---G---NP---NQ--KI--V--YPSNMGD-ILYIEDG-Y-TY\n",
      "\n",
      "target           51 ---HADPGQ-E-C-------T----H-----Y---QV 64\n",
      "                 60 ---|------|-|-------|----|-----.---|| 97\n",
      "query            33 WKSH-----CEVCGKDNKRPTLNIAHKWPSWFALAQV 65\n",
      "\n"
     ]
    }
   ],
   "source": [
    "for alignment in alignments:\n",
    "    print(f\"Matches: {get_matches(alignment)}\")\n",
    "    print(f\"Score: {alignment.score}\")\n",
    "    print(f\"Alignment:\")\n",
    "    print(alignment)\n",
    "    break"
   ]
  }
 ],
 "metadata": {
  "kernelspec": {
   "display_name": "base",
   "language": "python",
   "name": "python3"
  },
  "language_info": {
   "codemirror_mode": {
    "name": "ipython",
    "version": 3
   },
   "file_extension": ".py",
   "mimetype": "text/x-python",
   "name": "python",
   "nbconvert_exporter": "python",
   "pygments_lexer": "ipython3",
   "version": "3.12.4"
  }
 },
 "nbformat": 4,
 "nbformat_minor": 2
}
