{
 "cells": [
  {
   "cell_type": "markdown",
   "metadata": {},
   "source": [
    "# Ejercicio 1: \n",
    "\n",
    "### Usa la clase PairWiseAligner de Biopython para alinear secuencias de ADN y obtener la puntuación y el alineamiento óptimo en estos dos escenarios."
   ]
  },
  {
   "cell_type": "code",
   "execution_count": 1,
   "metadata": {},
   "outputs": [],
   "source": [
    "from Bio.Align import PairwiseAligner\n",
    "from Bio.Seq import Seq\n",
    "import random\n",
    "import pandas as pd\n",
    "from itertools import product"
   ]
  },
  {
   "cell_type": "markdown",
   "metadata": {},
   "source": [
    "### a) Generar las secuencias aleatoriamente (de forma automática no manual). Las dos secuencias pueden ser de diferente longitud."
   ]
  },
  {
   "cell_type": "markdown",
   "metadata": {},
   "source": [
    "#### 1. Generación de secuencias aleatorias"
   ]
  },
  {
   "cell_type": "code",
   "execution_count": 2,
   "metadata": {},
   "outputs": [],
   "source": [
    "def generate_random_dna_sequence(length):\n",
    "    return ''.join(random.choice('ACGT') for _ in range(length))"
   ]
  },
  {
   "cell_type": "code",
   "execution_count": 3,
   "metadata": {},
   "outputs": [
    {
     "name": "stdout",
     "output_type": "stream",
     "text": [
      "ATTCGGGGGATT\n",
      "CCGGGTCAGAGGTGTCCCGGATGT\n"
     ]
    }
   ],
   "source": [
    "seq1 = Seq(generate_random_dna_sequence(random.randint(10, 20)))\n",
    "seq2 = Seq(generate_random_dna_sequence(random.randint(15, 25)))\n",
    "\n",
    "print(seq1)\n",
    "print(seq2)"
   ]
  },
  {
   "cell_type": "markdown",
   "metadata": {},
   "source": [
    "#### 2. Alineamiento de secuencias mediante búsqueda en rejilla"
   ]
  },
  {
   "cell_type": "code",
   "execution_count": 8,
   "metadata": {},
   "outputs": [],
   "source": [
    "param_grid = {\n",
    "    \"mode\": [\"global\", \"local\"],\n",
    "    \"match_score\": [1, 2, 3],\n",
    "    \"mismatch_score\": [-1, -2, -3],\n",
    "    \"open_gap_score\": [-2, -3, -4],\n",
    "    \"extend_gap_score\": [-0.5, -1, -1.5],\n",
    "}"
   ]
  },
  {
   "cell_type": "code",
   "execution_count": 9,
   "metadata": {},
   "outputs": [],
   "source": [
    "grid_combinations = list(product(\n",
    "    param_grid[\"mode\"],\n",
    "    param_grid[\"match_score\"],\n",
    "    param_grid[\"mismatch_score\"],\n",
    "    param_grid[\"open_gap_score\"],\n",
    "    param_grid[\"extend_gap_score\"],\n",
    "))"
   ]
  },
  {
   "cell_type": "code",
   "execution_count": 12,
   "metadata": {},
   "outputs": [],
   "source": [
    "def align_with_parameters(seq1, seq2, **kwargs):\n",
    "    aligner = PairwiseAligner()\n",
    "    for key, value in kwargs.items():\n",
    "        setattr(aligner, key, value)\n",
    "    alignment = aligner.align(seq1, seq2)\n",
    "    return alignment.score, alignment"
   ]
  },
  {
   "cell_type": "code",
   "execution_count": 15,
   "metadata": {},
   "outputs": [],
   "source": [
    "results = []\n",
    "for params in grid_combinations:\n",
    "    param_dict = {\n",
    "        \"mode\": params[0],\n",
    "        \"match_score\": params[1],\n",
    "        \"mismatch_score\": params[2],\n",
    "        \"open_gap_score\": params[3],\n",
    "        \"extend_gap_score\": params[4],\n",
    "    }\n",
    "    score, alignment = align_with_parameters(seq1, seq2, **param_dict)\n",
    "\n",
    "    results.append({\n",
    "        \"params\": param_dict,\n",
    "        \"score\": score,\n",
    "        \"alignment\": alignment,\n",
    "    })\n",
    "results_df = pd.DataFrame(results)\n",
    "results_df = results_df.sort_values(by=\"score\", ascending=False)"
   ]
  },
  {
   "cell_type": "code",
   "execution_count": 18,
   "metadata": {},
   "outputs": [],
   "source": [
    "results_global = results_df[results_df[\"params\"].apply(lambda x: x[\"mode\"] == \"global\")]\n",
    "results_local = results_df[results_df[\"params\"].apply(lambda x: x[\"mode\"] == \"local\")]"
   ]
  },
  {
   "cell_type": "code",
   "execution_count": 22,
   "metadata": {},
   "outputs": [
    {
     "name": "stdout",
     "output_type": "stream",
     "text": [
      "Best global alignment:\n",
      "params       {'mode': 'global', 'match_score': 3, 'mismatch...\n",
      "score                                                     14.5\n",
      "alignment    <Bio.Align.PairwiseAlignments object at 0x0000...\n",
      "Name: 54, dtype: object\n"
     ]
    }
   ],
   "source": [
    "best_global = results_global.iloc[0]\n",
    "alignment_global = best_global[\"alignment\"]\n",
    "\n",
    "print(\"Best global alignment:\")\n",
    "print(best_global)"
   ]
  },
  {
   "cell_type": "markdown",
   "metadata": {},
   "source": [
    "### b)  Obtener las secuencias a partir de ficheros obtenidos de bases de datos  biológicas. Explicar cómo se obtuvieron."
   ]
  },
  {
   "cell_type": "code",
   "execution_count": null,
   "metadata": {},
   "outputs": [],
   "source": []
  },
  {
   "cell_type": "markdown",
   "metadata": {},
   "source": [
    "### Prueba a cambiar los parámetros del alineador como el esquema de puntuación, las penalizaciones de alineamiento y la modalidad de alineamiento (global o local). Compara los resultados obtenidos con diferentes configuraciones y explica las diferencias."
   ]
  }
 ],
 "metadata": {
  "kernelspec": {
   "display_name": "bio",
   "language": "python",
   "name": "python3"
  },
  "language_info": {
   "codemirror_mode": {
    "name": "ipython",
    "version": 3
   },
   "file_extension": ".py",
   "mimetype": "text/x-python",
   "name": "python",
   "nbconvert_exporter": "python",
   "pygments_lexer": "ipython3",
   "version": "3.9.20"
  }
 },
 "nbformat": 4,
 "nbformat_minor": 2
}
